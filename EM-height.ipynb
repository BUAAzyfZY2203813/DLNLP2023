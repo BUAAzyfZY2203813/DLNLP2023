{
 "cells": [
  {
   "cell_type": "code",
   "execution_count": 28,
   "metadata": {
    "collapsed": true
   },
   "outputs": [],
   "source": [
    "import numpy as np\n",
    "import csv\n",
    "import timeit\n",
    "from scipy.stats import norm\n",
    "import pandas as pd"
   ]
  },
  {
   "cell_type": "code",
   "execution_count": 29,
   "metadata": {
    "collapsed": false
   },
   "outputs": [
    {
     "data": {
      "text/plain": [
       "(2000, 1)"
      ]
     },
     "execution_count": 29,
     "metadata": {},
     "output_type": "execute_result"
    }
   ],
   "source": [
    "# 初始化数据\n",
    "data = pd.read_csv('height_data.csv',header=0)\n",
    "data = data.values\n",
    "data.shape"
   ]
  },
  {
   "cell_type": "code",
   "execution_count": 30,
   "metadata": {
    "collapsed": false
   },
   "outputs": [
    {
     "name": "stdout",
     "output_type": "stream",
     "text": [
      "0.2890518982148502 1.656051772353249 0.4646197104428297 0.14269063901211199\n"
     ]
    }
   ],
   "source": [
    "# 初始化模型参数\n",
    "n = data.shape[0]\n",
    "pi1 = 0.5\n",
    "pi2 = 0.5\n",
    "mu1 = np.random.randn()\n",
    "mu2 = np.random.randn()\n",
    "sigma1 = np.random.rand()\n",
    "sigma2 = np.random.rand()\n",
    "print(mu1,mu2,sigma1,sigma2)"
   ]
  },
  {
   "cell_type": "code",
   "execution_count": 31,
   "metadata": {
    "collapsed": false
   },
   "outputs": [],
   "source": [
    "# 定义高斯分布的概率密度函数\n",
    "def gaussian(x, mu, sigma):\n",
    "    return norm.logpdf(x, mu, sigma)"
   ]
  },
  {
   "cell_type": "code",
   "execution_count": 32,
   "metadata": {
    "collapsed": false
   },
   "outputs": [],
   "source": [
    "# 定义E步骤\n",
    "def e_step(data, pi1, pi2, mu1, mu2, sigma1, sigma2):\n",
    "    gamma1 = pi1 * gaussian(data, mu1, sigma1)\n",
    "    gamma2 = pi2 * gaussian(data, mu2, sigma2)\n",
    "    gamma_sum = gamma1 + gamma2\n",
    "    gamma1 = gamma1 / gamma_sum\n",
    "    gamma2 = gamma2 / gamma_sum\n",
    "    return gamma1, gamma2"
   ]
  },
  {
   "cell_type": "code",
   "execution_count": 33,
   "metadata": {
    "collapsed": false
   },
   "outputs": [],
   "source": [
    "# 定义M步骤\n",
    "def m_step(data, gamma1, gamma2):\n",
    "    n1 = np.sum(gamma1)\n",
    "    n2 = np.sum(gamma2)\n",
    "    pi1 = n1 / data.shape[0]\n",
    "    pi2 = n2 / data.shape[0]\n",
    "    mu1 = np.sum(gamma1 * data) / n1\n",
    "    mu2 = np.sum(gamma2 * data) / n2\n",
    "    sigma1 = np.sqrt(np.sum(gamma1 * (data - mu1) ** 2) / n1)\n",
    "    sigma2 = np.sqrt(np.sum(gamma2 * (data - mu2) ** 2) / n2)\n",
    "    return pi1, pi2, mu1, mu2, sigma1, sigma2"
   ]
  },
  {
   "cell_type": "code",
   "execution_count": 34,
   "metadata": {
    "collapsed": false
   },
   "outputs": [],
   "source": [
    "# 定义EM算法\n",
    "def em_algorithm(data, pi1, pi2, mu1, mu2, sigma1, sigma2, max_iter=100, tol=1e-4):\n",
    "    for i in range(max_iter):\n",
    "        gamma1, gamma2 = e_step(data, pi1, pi2, mu1, mu2, sigma1, sigma2)\n",
    "        pi1_new, pi2_new, mu1_new, mu2_new, sigma1_new, sigma2_new = m_step(data, gamma1, gamma2)\n",
    "        if np.abs(pi1_new - pi1) < tol and np.abs(pi2_new - pi2) < tol and np.abs(mu1_new - mu1) < tol \\\n",
    "                and np.abs(mu2_new - mu2) < tol and np.abs(sigma1_new - sigma1) < tol and np.abs(sigma2_new - sigma2) < tol:\n",
    "            break\n",
    "        pi1, pi2, mu1, mu2, sigma1, sigma2 = pi1_new, pi2_new, mu1_new, mu2_new, sigma1_new, sigma2_new\n",
    "    return pi1, pi2, mu1, mu2, sigma1, sigma2"
   ]
  },
  {
   "cell_type": "code",
   "execution_count": 35,
   "metadata": {
    "collapsed": false
   },
   "outputs": [
    {
     "name": "stdout",
     "output_type": "stream",
     "text": [
      "<class 'numpy.float64'>\n"
     ]
    }
   ],
   "source": [
    "# 运行EM算法\n",
    "pi1, pi2, mu1, mu2, sigma1, sigma2 = em_algorithm(data, pi1, pi2, mu1, mu2, sigma1, sigma2)\n",
    "print(type(pi1))"
   ]
  },
  {
   "cell_type": "code",
   "execution_count": 36,
   "metadata": {
    "collapsed": false
   },
   "outputs": [
    {
     "name": "stdout",
     "output_type": "stream",
     "text": [
      "pi1:  0.03095518607068831\n",
      "pi2:  0.9690448139293116\n",
      "mu1:  173.06964342498824\n",
      "mu2:  173.0696660732229\n",
      "sigma1:  6.962874756994861\n",
      "sigma2:  6.962870329767918\n",
      "MSE:  29313.311975674475\n",
      "Log-likelihood:  nan\n"
     ]
    },
    {
     "name": "stderr",
     "output_type": "stream",
     "text": [
      "C:\\Users\\hangxiaofan1873\\AppData\\Local\\Temp\\ipykernel_21304\\1077499231.py:7: RuntimeWarning: invalid value encountered in log\n",
      "  log_likelihood = np.sum(np.log(pi1 * gaussian(data, mu1, sigma1) + pi2 * gaussian(data, mu2, sigma2)))\n"
     ]
    }
   ],
   "source": [
    "# 预测数据\n",
    "gamma1, gamma2 = e_step(data, pi1, pi2, mu1, mu2, sigma1, sigma2)\n",
    "y_pred = np.argmax(np.array([gamma1 - gamma1, gamma2]), axis=0) + 1\n",
    "\n",
    "#计算均方误差和对数似然\n",
    "mse = np.mean((y_pred - data) ** 2)\n",
    "log_likelihood = np.sum(np.log(pi1 * gaussian(data, mu1, sigma1) + pi2 * gaussian(data, mu2, sigma2)))\n",
    "\n",
    "#输出模型参数和指标\n",
    "print(\"pi1: \", pi1)\n",
    "print(\"pi2: \", pi2)\n",
    "print(\"mu1: \", mu1)\n",
    "print(\"mu2: \", mu2)\n",
    "print(\"sigma1: \", sigma1)\n",
    "print(\"sigma2: \", sigma2)\n",
    "print(\"MSE: \", mse)\n",
    "print(\"Log-likelihood: \", log_likelihood)"
   ]
  },
  {
   "cell_type": "code",
   "execution_count": 27,
   "metadata": {
    "collapsed": false
   },
   "outputs": [
    {
     "data": {
      "text/plain": [
       "-114667.18123790296"
      ]
     },
     "execution_count": 27,
     "metadata": {},
     "output_type": "execute_result"
    }
   ],
   "source": [
    "log_pdf_value = norm.logpdf(170, -2.4, 0.36)\n",
    "log_pdf_value"
   ]
  },
  {
   "cell_type": "code",
   "execution_count": null,
   "metadata": {
    "collapsed": false
   },
   "outputs": [],
   "source": []
  }
 ],
 "metadata": {
  "kernelspec": {
   "display_name": "Python 3",
   "language": "python",
   "name": "python3"
  },
  "language_info": {
   "codemirror_mode": {
    "name": "ipython",
    "version": 2
   },
   "file_extension": ".py",
   "mimetype": "text/x-python",
   "name": "python",
   "nbconvert_exporter": "python",
   "pygments_lexer": "ipython2",
   "version": "2.7.6"
  }
 },
 "nbformat": 4,
 "nbformat_minor": 0
}
